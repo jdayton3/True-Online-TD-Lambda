{
 "cells": [
  {
   "cell_type": "code",
   "execution_count": 2,
   "metadata": {},
   "outputs": [],
   "source": [
    "import numpy as np\n",
    "import gym"
   ]
  },
  {
   "cell_type": "code",
   "execution_count": 205,
   "metadata": {
    "collapsed": true
   },
   "outputs": [],
   "source": [
    "class random_walk:\n",
    "    \n",
    "    def __init__(self, size, policy):\n",
    "        \"\"\" size: int, size of random walk\n",
    "            policy: function, returns -1 (left) or 1 (right)\n",
    "        \"\"\"\n",
    "        self.policy = policy\n",
    "        self.size = size\n",
    "        self.pos = int(size / 2) + 1\n",
    "        self.gamma = .99\n",
    "        self.features = np.array([\n",
    "            [1,0,0,0,0],\n",
    "            [1/np.sqrt(2), 1/np.sqrt(2), 0,0,0],\n",
    "            [1/np.sqrt(3), 1/np.sqrt(3), 1/np.sqrt(3), 0, 0],\n",
    "            [0, 1/np.sqrt(3), 1/np.sqrt(3), 1/np.sqrt(3), 0],\n",
    "            [0, 0, 1/np.sqrt(3), 1/np.sqrt(3), 1/np.sqrt(3)],\n",
    "            [0,0,0,0,0]\n",
    "        ]) # these features are coming right out of the paper.  I did not figure out how he came up with them\n",
    "        \n",
    "        self.state = self.features[self.pos-1]\n",
    "    \n",
    "    def step(self):\n",
    "        self.pos += self.policy()\n",
    "#         if self.pos < 1: self.pos = 1          \n",
    "        reward = 1 if self.pos == self.size else 0\n",
    "        \n",
    "        if self.pos == self.size or self.pos == 1:\n",
    "            end = True\n",
    "        else: end = False\n",
    "            \n",
    "        self.state = self.features[self.pos-1]\n",
    "    \n",
    "        return self.state, reward, end\n",
    "    \n",
    "    def reset(self):\n",
    "        self.__init__(self.size, self.policy)\n",
    "        \n",
    "    \n",
    "            \n",
    "        "
   ]
  },
  {
   "cell_type": "code",
   "execution_count": 206,
   "metadata": {},
   "outputs": [],
   "source": [
    "class td_pred:\n",
    "    \"\"\" td_lambda for prediction (not control, that has to be a separate class)\n",
    "    \"\"\"\n",
    "    def __init__(self, task, lam):\n",
    "        self.task = task\n",
    "        self.weights = np.zeros_like(task.state)\n",
    "        self.lam = lam  # lambda in the algorithm\n",
    "        \n",
    "    \n",
    "    def learn(self, n, alpha):\n",
    "        gamma = self.task.gamma\n",
    "        lam = self.lam\n",
    "        for _ in range(n):\n",
    "            e = np.zeros_like(self.task.state)\n",
    "            s = self.task.state\n",
    "            vs = self.weights.dot(self.task.state)\n",
    "            \n",
    "            while(1):\n",
    "                s_, r, t = self.task.step()\n",
    "                vs_ = self.weights.dot(s_)\n",
    "                d = r + self.task.gamma * vs_ - vs\n",
    "                e = gamma * lam * e + alpha * (1 - gamma * lam * e.dot(s)) * s\n",
    "                self.weights = self.weights + d * e + alpha * (vs - self.weights.dot(s)) * s\n",
    "                vs = vs_\n",
    "                s = s_\n",
    "                \n",
    "                if t:\n",
    "                    self.task.reset()\n",
    "                    break\n",
    "        \n",
    "        return self.weights, self.task.features.dot(self.weights)\n",
    "                "
   ]
  },
  {
   "cell_type": "code",
   "execution_count": 207,
   "metadata": {},
   "outputs": [],
   "source": [
    "p = [.5, .5]\n",
    "pol = lambda : np.random.choice([-1, 1], p=p)\n",
    "rw = random_walk(6, pol)\n"
   ]
  },
  {
   "cell_type": "code",
   "execution_count": 225,
   "metadata": {},
   "outputs": [
    {
     "data": {
      "text/plain": [
       "(array([ 0.30916685,  0.25048911,  0.34838933,  0.55757514,  0.61625288]),\n",
       " array([ 0.30916685,  0.39573652,  0.52426019,  0.66767878,  0.87885259,  0.        ]))"
      ]
     },
     "execution_count": 225,
     "metadata": {},
     "output_type": "execute_result"
    }
   ],
   "source": [
    "td = td_pred(rw, .5)\n",
    "td.learn(1000, .1)"
   ]
  },
  {
   "cell_type": "code",
   "execution_count": null,
   "metadata": {
    "collapsed": true
   },
   "outputs": [],
   "source": []
  },
  {
   "cell_type": "code",
   "execution_count": null,
   "metadata": {
    "collapsed": true
   },
   "outputs": [],
   "source": []
  }
 ],
 "metadata": {
  "kernelspec": {
   "display_name": "Python 3",
   "language": "python",
   "name": "python3"
  },
  "language_info": {
   "codemirror_mode": {
    "name": "ipython",
    "version": 3
   },
   "file_extension": ".py",
   "mimetype": "text/x-python",
   "name": "python",
   "nbconvert_exporter": "python",
   "pygments_lexer": "ipython3",
   "version": "3.6.1"
  }
 },
 "nbformat": 4,
 "nbformat_minor": 2
}
