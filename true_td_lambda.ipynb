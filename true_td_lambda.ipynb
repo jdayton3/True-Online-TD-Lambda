{
 "cells": [
  {
   "cell_type": "code",
   "execution_count": 1,
   "metadata": {
    "collapsed": true
   },
   "outputs": [],
   "source": [
    "import numpy as np\n",
    "# import gym"
   ]
  },
  {
   "cell_type": "code",
   "execution_count": 2,
   "metadata": {
    "collapsed": true
   },
   "outputs": [],
   "source": [
    "class random_walk:\n",
    "    \n",
    "    def __init__(self, size, policy, gamma=.99):\n",
    "        \"\"\" size: int, size of random walk\n",
    "            policy: function, returns -1 (left) or 1 (right)\n",
    "            gamma: float between 0 and 1, discounting factor\n",
    "        \"\"\"\n",
    "        self.policy = policy\n",
    "        self.size = size\n",
    "        self.pos = int(size / 2) + 1  # start in the middle of the states\n",
    "        self.gamma = gamma\n",
    "        # Create features according to pattern in paper\n",
    "        self.features = np.zeros((size, size))\n",
    "        self.features[1,0] = 1\n",
    "        self.features[2,:2] = [1/np.sqrt(2), 1/np.sqrt(2)]\n",
    "        for i in range(3, size-1):\n",
    "            self.features[i, i-2:i+1] = [1/np.sqrt(3), 1/np.sqrt(3), 1/np.sqrt(3)]\n",
    "        \n",
    "        self.state = self.features[self.pos-1]  # pos describes the position of the walk.  state is the features at that position\n",
    "    \n",
    "    \n",
    "    def step(self):\n",
    "        \"\"\" Take a step according to the policy, and observe new state, reward, and terminality.\n",
    "            Returns: new state (features), reward, and a bool end which is True if terminal state, False otherwise\n",
    "        \"\"\"\n",
    "        self.pos += self.policy()\n",
    "#         if self.pos < 1: self.pos = 1       #   In the paper, state 1 was not terminal.  Right now it's terminal with reward 0\n",
    "        reward = 1 if self.pos == self.size else 0\n",
    "        \n",
    "        if self.pos == self.size or self.pos == 1:\n",
    "            end = True\n",
    "        else: end = False\n",
    "            \n",
    "        self.state = self.features[self.pos-1]\n",
    "    \n",
    "        return self.state, reward, end\n",
    "    \n",
    "    \n",
    "    def reset(self):\n",
    "        \"\"\" Reset the random walk, at the end of an episode.\n",
    "        \"\"\"\n",
    "        self.__init__(self.size, self.policy)\n",
    "        \n",
    "    \n",
    "            \n",
    "        "
   ]
  },
  {
   "cell_type": "code",
   "execution_count": 3,
   "metadata": {
    "collapsed": true
   },
   "outputs": [],
   "source": [
    "class td_pred:\n",
    "    \"\"\" td_lambda for prediction (not control, that has to be a separate class)\n",
    "        with linear function approximation\n",
    "    \"\"\"\n",
    "    \n",
    "    def __init__(self, task, lam):\n",
    "        \"\"\" Task: hopefully this will be general enough that we can pass in a random walk class, mountain car task,\n",
    "                    or whatever else, and td_pred can use them all the same way.\n",
    "            lam: lambda\n",
    "        \"\"\"\n",
    "        self.task = task\n",
    "        self.weights = np.zeros_like(task.state)  # initialize weights like state features\n",
    "        self.lam = lam  # lambda in the algorithm\n",
    "        \n",
    "    \n",
    "    def learn(self, n, alpha):\n",
    "        \"\"\" Perform the td algorithm.  This is straight out of the paper\n",
    "            n: int, number of episodes\n",
    "            alpha: float from 0 to 1, step size\n",
    "            \n",
    "            returns: weights, state value estimates\n",
    "        \"\"\"\n",
    "        \n",
    "        gamma = self.task.gamma  \n",
    "        lam = self.lam\n",
    "        for _ in range(n):\n",
    "            e = np.zeros_like(self.task.state)\n",
    "            s = self.task.state\n",
    "            vs = self.weights.dot(self.task.state)\n",
    "            \n",
    "            while(1):\n",
    "                s_, r, t = self.task.step()\n",
    "                vs_ = self.weights.dot(s_)\n",
    "                d = r + self.task.gamma * vs_ - vs\n",
    "                e = gamma * lam * e + alpha * (1 - gamma * lam * e.dot(s)) * s\n",
    "                self.weights = self.weights + d * e + alpha * (vs - self.weights.dot(s)) * s\n",
    "                vs = vs_\n",
    "                s = s_\n",
    "                \n",
    "                if t:\n",
    "                    self.task.reset()\n",
    "                    break\n",
    "        \n",
    "        return self.weights, self.task.features.dot(self.weights)\n",
    "                "
   ]
  },
  {
   "cell_type": "code",
   "execution_count": 20,
   "metadata": {
    "collapsed": true
   },
   "outputs": [],
   "source": [
    "# make a policy and instantiate random walk task\n",
    "p = [.5, .5]\n",
    "pol = lambda : np.random.choice([-1, 1], p=p)\n",
    "WALK_SIZE = 11\n",
    "rw = random_walk(WALK_SIZE, pol)"
   ]
  },
  {
   "cell_type": "code",
   "execution_count": 5,
   "metadata": {},
   "outputs": [
    {
     "data": {
      "text/plain": [
       "(array([ 0.2447728 ,  0.42377753,  0.4359081 ,  0.4359081 ,  0.73266429,  0.        ]),\n",
       " array([ 0.        ,  0.2447728 ,  0.47273647,  0.74801139,  0.92634724,  0.        ]))"
      ]
     },
     "execution_count": 5,
     "metadata": {},
     "output_type": "execute_result"
    }
   ],
   "source": [
    "# A couple random walk demos\n",
    "\n",
    "td = td_pred(rw, .5)  # lambda .5\n",
    "td.learn(1000, .1)  # learning rate .1"
   ]
  },
  {
   "cell_type": "code",
   "execution_count": 22,
   "metadata": {},
   "outputs": [],
   "source": [
    "import pandas as pd\n",
    "learning_rates = np.linspace(0, 1.5, 151)\n",
    "lambdas = [0.5, 0.2]\n",
    "runs = 100\n",
    "df = pd.DataFrame(columns=[\"iteration\", \"lambda\", \"learning_rate\", \"rms\"])\n",
    "episodes = 10\n",
    "true_state_vals = np.linspace(0, 1, WALK_SIZE)\n",
    "true_state_vals[-1] = 0.0"
   ]
  },
  {
   "cell_type": "code",
   "execution_count": 23,
   "metadata": {
    "collapsed": true
   },
   "outputs": [],
   "source": [
    "for i in range(1, runs + 1):\n",
    "    for lmb in lambdas:\n",
    "        for lr in learning_rates:\n",
    "            td = td_pred(rw, lmb)\n",
    "            _, state_val_est = td.learn(episodes, lr)\n",
    "            rms = ((true_state_vals - state_val_est)**2).mean()**0.5\n",
    "            row = pd.DataFrame({\"iteration\": i, \"lambda\": lmb, \"learning_rate\": lr, \"rms\": rms}, index=[0])\n",
    "            df = df.append(row)"
   ]
  },
  {
   "cell_type": "code",
   "execution_count": 24,
   "metadata": {},
   "outputs": [
    {
     "data": {
      "text/html": [
       "<div>\n",
       "<style>\n",
       "    .dataframe thead tr:only-child th {\n",
       "        text-align: right;\n",
       "    }\n",
       "\n",
       "    .dataframe thead th {\n",
       "        text-align: left;\n",
       "    }\n",
       "\n",
       "    .dataframe tbody tr th {\n",
       "        vertical-align: top;\n",
       "    }\n",
       "</style>\n",
       "<table border=\"1\" class=\"dataframe\">\n",
       "  <thead>\n",
       "    <tr style=\"text-align: right;\">\n",
       "      <th></th>\n",
       "      <th>iteration</th>\n",
       "      <th>lambda</th>\n",
       "      <th>learning_rate</th>\n",
       "      <th>rms</th>\n",
       "    </tr>\n",
       "  </thead>\n",
       "  <tbody>\n",
       "    <tr>\n",
       "      <th>0</th>\n",
       "      <td>1</td>\n",
       "      <td>0.5</td>\n",
       "      <td>0.00</td>\n",
       "      <td>0.509010</td>\n",
       "    </tr>\n",
       "    <tr>\n",
       "      <th>0</th>\n",
       "      <td>1</td>\n",
       "      <td>0.5</td>\n",
       "      <td>0.01</td>\n",
       "      <td>0.477907</td>\n",
       "    </tr>\n",
       "    <tr>\n",
       "      <th>0</th>\n",
       "      <td>1</td>\n",
       "      <td>0.5</td>\n",
       "      <td>0.02</td>\n",
       "      <td>0.461345</td>\n",
       "    </tr>\n",
       "    <tr>\n",
       "      <th>0</th>\n",
       "      <td>1</td>\n",
       "      <td>0.5</td>\n",
       "      <td>0.03</td>\n",
       "      <td>0.405320</td>\n",
       "    </tr>\n",
       "    <tr>\n",
       "      <th>0</th>\n",
       "      <td>1</td>\n",
       "      <td>0.5</td>\n",
       "      <td>0.04</td>\n",
       "      <td>0.356917</td>\n",
       "    </tr>\n",
       "  </tbody>\n",
       "</table>\n",
       "</div>"
      ],
      "text/plain": [
       "  iteration  lambda  learning_rate       rms\n",
       "0         1     0.5           0.00  0.509010\n",
       "0         1     0.5           0.01  0.477907\n",
       "0         1     0.5           0.02  0.461345\n",
       "0         1     0.5           0.03  0.405320\n",
       "0         1     0.5           0.04  0.356917"
      ]
     },
     "execution_count": 24,
     "metadata": {},
     "output_type": "execute_result"
    }
   ],
   "source": [
    "df.head()"
   ]
  },
  {
   "cell_type": "code",
   "execution_count": 25,
   "metadata": {
    "collapsed": true
   },
   "outputs": [],
   "source": [
    "df.to_csv(\"./mse.csv\", index=False)"
   ]
  }
 ],
 "metadata": {
  "kernelspec": {
   "display_name": "Python 2",
   "language": "python",
   "name": "python2"
  },
  "language_info": {
   "codemirror_mode": {
    "name": "ipython",
    "version": 2
   },
   "file_extension": ".py",
   "mimetype": "text/x-python",
   "name": "python",
   "nbconvert_exporter": "python",
   "pygments_lexer": "ipython2",
   "version": "2.7.13"
  }
 },
 "nbformat": 4,
 "nbformat_minor": 2
}
