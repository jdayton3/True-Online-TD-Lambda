{
 "cells": [
  {
   "cell_type": "code",
   "execution_count": 2,
   "metadata": {},
   "outputs": [],
   "source": [
    "import numpy as np\n",
    "import gym"
   ]
  },
  {
   "cell_type": "code",
   "execution_count": null,
   "metadata": {
    "collapsed": true
   },
   "outputs": [],
   "source": []
  },
  {
   "cell_type": "code",
   "execution_count": null,
   "metadata": {
    "collapsed": true
   },
   "outputs": [],
   "source": [
    "# just copied this from the prediction version.\n",
    "# Will be working on modifying for control.\n",
    "\n",
    "class td_pred:\n",
    "    \"\"\" td_lambda for control\n",
    "        with linear function approximation\n",
    "    \"\"\"\n",
    "    \n",
    "    def __init__(self, task, lam):\n",
    "        \"\"\" Task: hopefully this will be general enough that we can pass in a random walk class, mountain car task,\n",
    "                    or whatever else, and td_pred can use them all the same way.\n",
    "            lam: lambda\n",
    "        \"\"\"\n",
    "        self.task = task\n",
    "        self.weights = np.zeros_like(task.state)  # initialize weights like state features\n",
    "        self.lam = lam  # lambda in the algorithm\n",
    "        \n",
    "    \n",
    "    def learn(self, n, alpha):\n",
    "        \"\"\" Perform the td algorithm.  This is straight out of the paper\n",
    "            n: int, number of episodes\n",
    "            alpha: float from 0 to 1, step size\n",
    "            \n",
    "            returns: weights, state value estimates\n",
    "        \"\"\"\n",
    "        \n",
    "        gamma = self.task.gamma  \n",
    "        lam = self.lam\n",
    "        for _ in range(n):\n",
    "            e = np.zeros_like(self.task.state)\n",
    "            s = self.task.state\n",
    "            vs = self.weights.dot(self.task.state)\n",
    "            \n",
    "            while(1):\n",
    "                s_, r, t = self.task.step()\n",
    "                vs_ = self.weights.dot(s_)\n",
    "                d = r + self.task.gamma * vs_ - vs\n",
    "                e = gamma * lam * e + alpha * (1 - gamma * lam * e.dot(s)) * s\n",
    "                self.weights = self.weights + d * e + alpha * (vs - self.weights.dot(s)) * s\n",
    "                vs = vs_\n",
    "                s = s_\n",
    "                \n",
    "                if t:\n",
    "                    self.task.reset()\n",
    "                    break\n",
    "        \n",
    "        return self.weights, self.task.features.dot(self.weights)\n",
    "                "
   ]
  }
 ],
 "metadata": {
  "kernelspec": {
   "display_name": "Python 3",
   "language": "python",
   "name": "python3"
  },
  "language_info": {
   "codemirror_mode": {
    "name": "ipython",
    "version": 3
   },
   "file_extension": ".py",
   "mimetype": "text/x-python",
   "name": "python",
   "nbconvert_exporter": "python",
   "pygments_lexer": "ipython3",
   "version": "3.6.1"
  }
 },
 "nbformat": 4,
 "nbformat_minor": 2
}
