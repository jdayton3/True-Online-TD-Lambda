{
 "cells": [
  {
   "cell_type": "code",
   "execution_count": 189,
   "metadata": {},
   "outputs": [],
   "source": [
    "import numpy as np\n",
    "import gym\n",
    "from tiles3 import tiles, IHT\n",
    "from matplotlib import pyplot as plt"
   ]
  },
  {
   "cell_type": "code",
   "execution_count": null,
   "metadata": {},
   "outputs": [],
   "source": []
  },
  {
   "cell_type": "code",
   "execution_count": null,
   "metadata": {},
   "outputs": [],
   "source": []
  },
  {
   "cell_type": "code",
   "execution_count": 243,
   "metadata": {},
   "outputs": [],
   "source": [
    "class deck():\n",
    "    def __init__(self):\n",
    "        self.cards = [1,2,3,4,5,6,7,8,9,10,10,10]*4\n",
    "    \n",
    "    def draw(self):\n",
    "        c = np.random.choice(self.cards)\n",
    "        self.cards.remove(c)\n",
    "        return c\n",
    "    \n",
    "class player():\n",
    "    def __init__(self):\n",
    "        self.cards = []\n",
    "        self.deck = deck()\n",
    "        self.theta = np.zeros(23) # states 0 - 21 and one state for anything higher\n",
    "#         self.state = self.state_maker(sum(self.cards))\n",
    "\n",
    "        \n",
    "    def state_maker(self, val):\n",
    "        phi = np.zeros(23)\n",
    "        if val == 0:\n",
    "            phi[0] = 1\n",
    "        else:\n",
    "            for i in range(val):\n",
    "\n",
    "                phi[i] = 1. / np.sqrt(val)\n",
    "        return phi\n",
    "        \n",
    "        \n",
    "    def step(self, pol_val):\n",
    "        \n",
    "        self.cards.append(self.deck.draw())\n",
    "        \n",
    "        if sum(self.cards) > 21:\n",
    "            r = -10\n",
    "            terminal = True\n",
    "            self.cards = [23]\n",
    "        \n",
    "        elif sum(self.cards) >= pol_val:\n",
    "            r = sum(self.cards) - 21\n",
    "            terminal = True\n",
    "        else:\n",
    "            r = 0\n",
    "            terminal = False\n",
    "\n",
    "            \n",
    "        return self.state_maker(sum(self.cards)), r, terminal\n",
    "        \n",
    "    \n",
    "    def predict(self, n, pol_val, alpha, gamma, lam):\n",
    "        \"\"\" Perform the td algorithm.  This is straight out of the paper\n",
    "            n: int, number of episodes\n",
    "            alpha: float from 0 to 1, step size\n",
    "            \n",
    "            returns: weights, state value estimates\n",
    "        \"\"\"\n",
    "        \n",
    "        \n",
    "        for _ in range(n):\n",
    "            e = np.zeros_like(self.theta)\n",
    "            phi = self.state_maker(sum(self.cards))\n",
    "            vs = self.theta.dot(phi)\n",
    "            \n",
    "            while(1):\n",
    "                phi_, r, t = self.step(pol_val)\n",
    "                vs_ = self.theta.dot(phi_)\n",
    "                \n",
    "                d = r + gamma * vs_ - vs\n",
    "                e = gamma * lam * e + alpha * (1 - gamma * lam * e.dot(phi)) * phi\n",
    "                self.theta = self.theta + d * e + alpha * (vs - self.theta.dot(phi)) * phi\n",
    "                vs = vs_\n",
    "                phi = phi_\n",
    "                \n",
    "                if t:\n",
    "                    self.reset()  \n",
    "                    break\n",
    "        \n",
    "        state_vals = [self.theta.dot(self.state_maker(s)) for s in range(0, 22)]\n",
    "        \n",
    "        \n",
    "        return self.theta, state_vals\n",
    "        \n",
    "    def reset(self):\n",
    "        self.cards = []\n",
    "        self.deck = deck()\n",
    "    "
   ]
  },
  {
   "cell_type": "code",
   "execution_count": 277,
   "metadata": {},
   "outputs": [],
   "source": [
    "n_episodes = 1000\n",
    "stop_val = 8 # policy\n",
    "alpha = .05\n",
    "gamma = .1\n",
    "lam = .9\n",
    "pl = player()\n",
    "theta, vals = pl.predict(n_episodes, stop_val, alpha, gamma, lam)"
   ]
  },
  {
   "cell_type": "code",
   "execution_count": 278,
   "metadata": {},
   "outputs": [
    {
     "data": {
      "image/png": "[encoded data removed]",
      "text/plain": [
       "<matplotlib.figure.Figure at 0x7f24c83bf940>"
      ]
     },
     "metadata": {},
     "output_type": "display_data"
    }
   ],
   "source": [
    "plt.plot(vals)\n",
    "plt.savefig('21_8.png')"
   ]
  },
  {
   "cell_type": "code",
   "execution_count": 111,
   "metadata": {},
   "outputs": [
    {
     "data": {
      "text/plain": [
       "[2, 3, 4, 3, 2, 1]"
      ]
     },
     "execution_count": 111,
     "metadata": {},
     "output_type": "execute_result"
    }
   ],
   "source": [
    "l"
   ]
  },
  {
   "cell_type": "code",
   "execution_count": null,
   "metadata": {},
   "outputs": [],
   "source": []
  }
 ],
 "metadata": {
  "kernelspec": {
   "display_name": "Python 3",
   "language": "python",
   "name": "python3"
  },
  "language_info": {
   "codemirror_mode": {
    "name": "ipython",
    "version": 3
   },
   "file_extension": ".py",
   "mimetype": "text/x-python",
   "name": "python",
   "nbconvert_exporter": "python",
   "pygments_lexer": "ipython3",
   "version": "3.6.4"
  }
 },
 "nbformat": 4,
 "nbformat_minor": 2
}
